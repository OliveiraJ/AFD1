{
 "cells": [
  {
   "cell_type": "markdown",
   "id": "ba3e85e1-8e17-4335-95c5-fccb0158b4be",
   "metadata": {},
   "source": [
    "##AFD\n"
   ]
  },
  {
   "cell_type": "markdown",
   "id": "e102ae7e-6f12-4722-955c-db6bc813dc03",
   "metadata": {
    "tags": []
   },
   "source": [
    "__Autômato Finito Derteminístico (AFD) é uma 5-tupla (Q,Σ,δ,q0,F):Autômato Finito Derteminístico (AFD) é uma 5-tupla (Q,Σ,δ,q0,F):__\n",
    "    1. Q é um conjunto finito de estados;\n",
    "    2. Σ é um conjunto finito chamado de alfabeto;\n",
    "    3. δ: Q x Σ -> Q é uma função de transição;\n",
    "    4. q0 ∈ Q é o estado inicial;\n",
    "    5. F ⊆ Q é o conjunto de estados finais (ou de aceitação).\n",
    "\n",
    "  O código abaixo é a implementação de um AFD na linguagem de programação Python (v.3.8.10), uma hash table foi escolhida para armazenar a tabela com as transições do AFD, tal estrutura de dados possui uma complexidade média O(1), mesmo que seu pior caso seja O(n), no caso desta aplicação não precisamos nos preocupar com isso. assumindo a complexidade média O(1) como dito anteriormente, a hash table ou dictionary em Python é declarada na linha 5 do algoritmo em questão.\n",
    "  \n",
    "   Nas primeiras três linhas são capturadas respectivamente os valores do conjunto de estados, o alfabeto e a quantidade de transições, respectivamente sendo armazenados nas variáveis __estds__, __simb_alfabeto__ e __qtd_transicoes__.\n",
    "   \n",
    "   Entre as linhas 7 e 8 a tabela __transicoes_afd__ é parcialmente preenchida com uma chave para cada estado, já entre as linhas 10 e 14 outro _for_ loop adiciona as transições para cada estado, tais transições são inseridas pelo usuário ainda dentro do mesmo loop, como descritas no código, respectivamente se insere a __inicial__, seguida pelo _caractere_ e finalmente o _final_ ou destino.\n",
    "   \n",
    "   Entre as linhas 16 e 18 são preenchidas as variáveis __estd_inicial__, __estds_finais__ e __delta__ respectivamente. Em seguida temos o bloco de código responsável por reconhecer ou não uma palavra após preenchidas as características do AFD, a viriável __delta__ se trata do conjunto de palavras que será analisado, no primeiro bloco _for_ esse bloco é percorrido palavra a palavra, ainda nesse bloco a veriável __estd_atual__ recebe o valor da variável __estd_inicial__ e a variável __estd_erro__ recebe o valor 0 indicando que o AFD não se encontra em estado de erro. Compondo ainda esse bloco _for_ um novo bloco _for_ é declarado com o objetivo de percorrer cada um dos caracteres da string (palavra) sendo analisada e tal comportamento pode resultar numa complexidade máxima de _O(n)_ onde n é o tamanho de cada palavra, uma vez que a análise é feita ao se percorrer as hash tables criadas, a análise por sua vez é feita por um bloco _try_ que ao falhar dispara uma _except_ atribuindo à variável __estd_erro__ o valor 1 e acionando um _break_ forçando a saída desse bloco _for_.\n",
    "   \n",
    "   Por fim ainda dentro do bloco _for_ responsável por percorrer o conjunto de palavras __delta__, um bloco _if_ analisa se a variável __estd_erro__ possui valor 1 ou se a variável __estd_atual__ está presente na lista __estds_finais__, caso uma dessas condições seja verdade é impressana tela a mensagem 'N' indicando que a palavra analisada não foi aceita pelo AFD, caso as duas condições sejam falsas é impressa na tela a mensagem 'S' indicando que a palavra foi aceita pelo AFD. Tal processo é repetido para todas as palavras presentes na lista __delta__ e após sua análise completa o algoritmo é finalizado.\n",
    "                                                                                  Aluno: Jordan Silva Oliveira."
   ]
  },
  {
   "cell_type": "code",
   "execution_count": null,
   "id": "cf41fae8-0450-4c12-9b77-9d537952786f",
   "metadata": {
    "tags": []
   },
   "outputs": [],
   "source": [
    "estds = input().split(\" \")\n",
    "simb_alfabeto = input().split(\" \")\n",
    "qtd_transicoes = int(input())\n",
    "\n",
    "transicoes_afd = {}\n",
    "\n",
    "for estd in estds:\n",
    "    transicoes_afd[estd] = {}\n",
    "\n",
    "for i in range(0,qtd_transicoes):\n",
    "    inicial, caractere, final = input().split(\" \")\n",
    "    \n",
    "    if caractere not in transicoes_afd[inicial]:\n",
    "        transicoes_afd[inicial][caractere] = final\n",
    "        \n",
    "estd_inicial = input()\n",
    "estds_finais = input().split(\" \")\n",
    "delta = input().split(\" \")\n",
    "\n",
    "for palavra in delta:\n",
    "    estd_atual = estd_inicial\n",
    "    estd_erro = 0\n",
    "    \n",
    "    for letra in palavra:\n",
    "        try:\n",
    "            estd_atual = transicoes_afd[estd_atual][letra]\n",
    "        except KeyError:\n",
    "            estd_erro = 1\n",
    "            break\n",
    "    if(estd_erro == 1 or estd_atual not in estds_finais):\n",
    "        print('N')\n",
    "    else:\n",
    "        print('S')"
   ]
  }
 ],
 "metadata": {
  "kernelspec": {
   "display_name": "Python 3 (ipykernel)",
   "language": "python",
   "name": "python3"
  },
  "language_info": {
   "codemirror_mode": {
    "name": "ipython",
    "version": 3
   },
   "file_extension": ".py",
   "mimetype": "text/x-python",
   "name": "python",
   "nbconvert_exporter": "python",
   "pygments_lexer": "ipython3",
   "version": "3.9.7"
  }
 },
 "nbformat": 4,
 "nbformat_minor": 5
}
