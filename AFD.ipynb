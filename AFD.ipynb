{
 "cells": [
  {
   "cell_type": "code",
   "execution_count": null,
   "id": "189e4835",
   "metadata": {},
   "outputs": [],
   "source": [
    "\"\"\"\n",
    " Algoritmo de simulação de um AFD\n",
    " O algoritmo retornará 'S' se a palavra pertencer ao alfabeto e 'N' se não pertencer\n",
    " Entrada:\n",
    "     Na primeira linha, há uma lista de estados. Na segunda linha, há uma lista contendo os símbolos do\n",
    "     alfabeto. Na terceira linha, há o número total n de transições. Para cada uma das n linhas seguintes,\n",
    "     há uma tripla <o,c,d> onde ‘o’ é o estado de origem, ‘c’ é o caractere e ‘d’ é o estado de destino. Em\n",
    "     seguida, há o estado inicial. Na próxima linha, há uma lista de estados finais. Por fim, há uma lista\n",
    "     de palavras de teste a ser reconhecida. Os itens da lista serão separados por espaço em branco.\n",
    " \n",
    " Saída:\n",
    "     Seu programa deve imprimir para cada palavra de teste ‘S’ se o AFD reconhece a palavra ou ‘N’\n",
    "     caso contrário.\n",
    "     \n",
    "     Entrada: 1. o AFD, dado por i, F e D, e\n",
    "              2. a palavra de entrada, dada por prox.\n",
    "        Saı́da: sim ou não.\n",
    "        e ← i; s ← prox();\n",
    "        enquanto s 6 = fs faça\n",
    "        e ← D[e, s]; s ← prox();\n",
    "        fimenquanto;\n",
    "        se e ∈ F então\n",
    "        retorne sim\n",
    "        senão\n",
    "        retorne não\n",
    "        fimse\n",
    "\"\"\"\n",
    "stds = input().split(\" \")\n",
    "simbAlfabeto = input().split(\" \")\n",
    "qtsTransicoes = int(input())\n",
    "\n",
    "afd = {}\n",
    "\n",
    "for std in stds:\n",
    "    afd[std] = {}\n",
    "    print(afd)\n",
    "\n",
    "for i in range(0,qtsTransicoes):\n",
    "    i, c, f = input().split(\" \")\n",
    "    \n",
    "    if c not in afd[i]:\n",
    "        afd[i][c] = f\n",
    "        \n",
    "ini_std = input()\n",
    "fin_std = input().split(\" \")\n",
    "sigma = input().split(\" \")\n",
    "\n",
    "for s in sigma:\n",
    "    atual_std = ini_std\n",
    "    error_std = 0\n",
    "    \n",
    "    for char in s:\n",
    "        try:\n",
    "            atual_std = afd[atual_std][char]\n",
    "        except KeyError:\n",
    "            error_std = 1\n",
    "            break\n",
    "    if(error_std == 1 or atual_std not in fin_std):\n",
    "        print('N')\n",
    "    else:\n",
    "        print('S')"
   ]
  },
  {
   "cell_type": "code",
   "execution_count": null,
   "id": "c55cb7fc",
   "metadata": {},
   "outputs": [],
   "source": [
    "1 2\n",
    "a b\n",
    "4\n",
    "1 b 1\n",
    "1 a 2\n",
    "2 b 2\n",
    "2 a 1\n",
    "1\n",
    "1\n",
    "a b ab aab baa\n"
   ]
  },
  {
   "cell_type": "code",
   "execution_count": null,
   "id": "bb92b7c9",
   "metadata": {},
   "outputs": [],
   "source": [
    "0 1\n",
    "a b\n"
   ]
  }
 ],
 "metadata": {
  "kernelspec": {
   "display_name": "Python 3 (ipykernel)",
   "language": "python",
   "name": "python3"
  },
  "language_info": {
   "codemirror_mode": {
    "name": "ipython",
    "version": 3
   },
   "file_extension": ".py",
   "mimetype": "text/x-python",
   "name": "python",
   "nbconvert_exporter": "python",
   "pygments_lexer": "ipython3",
   "version": "3.9.7"
  }
 },
 "nbformat": 4,
 "nbformat_minor": 5
}
